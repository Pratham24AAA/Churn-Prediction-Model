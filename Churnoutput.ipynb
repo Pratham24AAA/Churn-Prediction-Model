{
 "cells": [
  {
   "cell_type": "code",
   "execution_count": 1,
   "id": "830c99b1",
   "metadata": {},
   "outputs": [
    {
     "data": {
      "application/vnd.jupyter.widget-view+json": {
       "model_id": "4a37381d62a54ee6946e723c3937ac0b",
       "version_major": 2,
       "version_minor": 0
      },
      "text/plain": [
       "Dropdown(description='gender', options=('Male', 'Female'), value='Male')"
      ]
     },
     "metadata": {},
     "output_type": "display_data"
    },
    {
     "data": {
      "application/vnd.jupyter.widget-view+json": {
       "model_id": "a028d333775f4f6e8eff3eff21aecfda",
       "version_major": 2,
       "version_minor": 0
      },
      "text/plain": [
       "Dropdown(description='SeniorCitizen', options=(0, 1), value=0)"
      ]
     },
     "metadata": {},
     "output_type": "display_data"
    },
    {
     "data": {
      "application/vnd.jupyter.widget-view+json": {
       "model_id": "71e69087a07d45a0bed7c7e748ffdb9a",
       "version_major": 2,
       "version_minor": 0
      },
      "text/plain": [
       "Dropdown(description='Partner', options=('No', 'Yes'), value='No')"
      ]
     },
     "metadata": {},
     "output_type": "display_data"
    },
    {
     "data": {
      "application/vnd.jupyter.widget-view+json": {
       "model_id": "8351951b99924529b2358347edf48379",
       "version_major": 2,
       "version_minor": 0
      },
      "text/plain": [
       "Dropdown(description='Dependents', options=('No', 'Yes'), value='No')"
      ]
     },
     "metadata": {},
     "output_type": "display_data"
    },
    {
     "data": {
      "application/vnd.jupyter.widget-view+json": {
       "model_id": "c4c0120560924c12ace4ff901ffc7c2f",
       "version_major": 2,
       "version_minor": 0
      },
      "text/plain": [
       "FloatText(value=0.0, description='tenure')"
      ]
     },
     "metadata": {},
     "output_type": "display_data"
    },
    {
     "data": {
      "application/vnd.jupyter.widget-view+json": {
       "model_id": "a0f1aa04399f49e3aa1a47e5add9a6ae",
       "version_major": 2,
       "version_minor": 0
      },
      "text/plain": [
       "Dropdown(description='PhoneService', options=('No', 'Yes'), value='No')"
      ]
     },
     "metadata": {},
     "output_type": "display_data"
    },
    {
     "data": {
      "application/vnd.jupyter.widget-view+json": {
       "model_id": "d83f04f93121402eb1f82fc99ce3b84d",
       "version_major": 2,
       "version_minor": 0
      },
      "text/plain": [
       "Dropdown(description='MultipleLines', options=('No', 'No phone service', 'Yes'), value='No')"
      ]
     },
     "metadata": {},
     "output_type": "display_data"
    },
    {
     "data": {
      "application/vnd.jupyter.widget-view+json": {
       "model_id": "d5424e4511de4851894927833255aea7",
       "version_major": 2,
       "version_minor": 0
      },
      "text/plain": [
       "Dropdown(description='InternetService', options=('DSL', 'Fiber optic', 'No'), value='DSL')"
      ]
     },
     "metadata": {},
     "output_type": "display_data"
    },
    {
     "data": {
      "application/vnd.jupyter.widget-view+json": {
       "model_id": "578fb875389b4643b22c44e4008b2f4c",
       "version_major": 2,
       "version_minor": 0
      },
      "text/plain": [
       "Dropdown(description='OnlineSecurity', options=('No', 'No internet service', 'Yes'), value='No')"
      ]
     },
     "metadata": {},
     "output_type": "display_data"
    },
    {
     "data": {
      "application/vnd.jupyter.widget-view+json": {
       "model_id": "fc037f364def440a815965f0a7a06935",
       "version_major": 2,
       "version_minor": 0
      },
      "text/plain": [
       "Dropdown(description='OnlineBackup', options=('No', 'No internet service', 'Yes'), value='No')"
      ]
     },
     "metadata": {},
     "output_type": "display_data"
    },
    {
     "data": {
      "application/vnd.jupyter.widget-view+json": {
       "model_id": "5bd5e07007cf4aba9445b2169816aa48",
       "version_major": 2,
       "version_minor": 0
      },
      "text/plain": [
       "Dropdown(description='DeviceProtection', options=('No', 'No internet service', 'Yes'), value='No')"
      ]
     },
     "metadata": {},
     "output_type": "display_data"
    },
    {
     "data": {
      "application/vnd.jupyter.widget-view+json": {
       "model_id": "693894ea11504b31ba020dc813738e51",
       "version_major": 2,
       "version_minor": 0
      },
      "text/plain": [
       "Dropdown(description='TechSupport', options=('No', 'No internet service', 'Yes'), value='No')"
      ]
     },
     "metadata": {},
     "output_type": "display_data"
    },
    {
     "data": {
      "application/vnd.jupyter.widget-view+json": {
       "model_id": "85268662d89b44928ad683461a202160",
       "version_major": 2,
       "version_minor": 0
      },
      "text/plain": [
       "Dropdown(description='StreamingTV', options=('No', 'No internet service', 'Yes'), value='No')"
      ]
     },
     "metadata": {},
     "output_type": "display_data"
    },
    {
     "data": {
      "application/vnd.jupyter.widget-view+json": {
       "model_id": "54d4d37c0c694218a8cd5395641ee482",
       "version_major": 2,
       "version_minor": 0
      },
      "text/plain": [
       "Dropdown(description='StreamingMovies', options=('No', 'No internet service', 'Yes'), value='No')"
      ]
     },
     "metadata": {},
     "output_type": "display_data"
    },
    {
     "data": {
      "application/vnd.jupyter.widget-view+json": {
       "model_id": "2269c2bb54cc43b4925464892400ba57",
       "version_major": 2,
       "version_minor": 0
      },
      "text/plain": [
       "Dropdown(description='Contract', options=('Month-to-month', 'One year', 'Two year'), value='Month-to-month')"
      ]
     },
     "metadata": {},
     "output_type": "display_data"
    },
    {
     "data": {
      "application/vnd.jupyter.widget-view+json": {
       "model_id": "be10a4e60e2d47088a6f50cdb9fe5841",
       "version_major": 2,
       "version_minor": 0
      },
      "text/plain": [
       "Dropdown(description='PaperlessBilling', options=('No', 'Yes'), value='No')"
      ]
     },
     "metadata": {},
     "output_type": "display_data"
    },
    {
     "data": {
      "application/vnd.jupyter.widget-view+json": {
       "model_id": "6db3f50f3c0d4d0e8f843d6238a73025",
       "version_major": 2,
       "version_minor": 0
      },
      "text/plain": [
       "Dropdown(description='PaymentMethod', options=('Bank transfer (automatic)', 'Credit card (automatic)', 'Electr…"
      ]
     },
     "metadata": {},
     "output_type": "display_data"
    },
    {
     "data": {
      "application/vnd.jupyter.widget-view+json": {
       "model_id": "028c6d5624ca4c95893e69509c90ec06",
       "version_major": 2,
       "version_minor": 0
      },
      "text/plain": [
       "FloatText(value=0.0, description='MonthlyCharges')"
      ]
     },
     "metadata": {},
     "output_type": "display_data"
    },
    {
     "data": {
      "application/vnd.jupyter.widget-view+json": {
       "model_id": "39cae9de8deb4f4993b63bd5657fd8e1",
       "version_major": 2,
       "version_minor": 0
      },
      "text/plain": [
       "FloatText(value=0.0, description='TotalCharges')"
      ]
     },
     "metadata": {},
     "output_type": "display_data"
    },
    {
     "data": {
      "application/vnd.jupyter.widget-view+json": {
       "model_id": "ae47337923c2416bbdce76719327df13",
       "version_major": 2,
       "version_minor": 0
      },
      "text/plain": [
       "Button(description='Predict', style=ButtonStyle())"
      ]
     },
     "metadata": {},
     "output_type": "display_data"
    },
    {
     "data": {
      "application/vnd.jupyter.widget-view+json": {
       "model_id": "56bc2a0fcd7f4b428696241742a2bee4",
       "version_major": 2,
       "version_minor": 0
      },
      "text/plain": [
       "Output()"
      ]
     },
     "metadata": {},
     "output_type": "display_data"
    },
    {
     "data": {
      "application/vnd.jupyter.widget-view+json": {
       "model_id": "df0452e8c5a54d819d69237e6f47af79",
       "version_major": 2,
       "version_minor": 0
      },
      "text/plain": [
       "Output()"
      ]
     },
     "metadata": {},
     "output_type": "display_data"
    }
   ],
   "source": [
    "import joblib\n",
    "import ipywidgets as widgets\n",
    "from IPython.display import display\n",
    "\n",
    "# Load the trained model\n",
    "model = joblib.load('model.sav')\n",
    "\n",
    "# Define the original 19 features\n",
    "original_features = ['gender', 'SeniorCitizen', 'Partner', 'Dependents', 'tenure', 'PhoneService',\n",
    "                     'MultipleLines', 'InternetService', 'OnlineSecurity', 'OnlineBackup', 'DeviceProtection',\n",
    "                     'TechSupport', 'StreamingTV', 'StreamingMovies', 'Contract', 'PaperlessBilling',\n",
    "                     'PaymentMethod', 'MonthlyCharges', 'TotalCharges']\n",
    "\n",
    "# Define options for each feature manually\n",
    "feature_options = {\n",
    "    'gender': ['Male', 'Female'],\n",
    "    'SeniorCitizen': [0, 1],  # Assuming binary\n",
    "    'Partner': ['No', 'Yes'],\n",
    "    'Dependents': ['No', 'Yes'],\n",
    "    'tenure': ['Values'],  # Add appropriate values\n",
    "    'PhoneService': ['No', 'Yes'],\n",
    "    'MultipleLines': ['No', 'No phone service', 'Yes'],\n",
    "    'InternetService': ['DSL', 'Fiber optic', 'No'],\n",
    "    'OnlineSecurity': ['No', 'No internet service', 'Yes'],\n",
    "    'OnlineBackup': ['No', 'No internet service', 'Yes'],\n",
    "    'DeviceProtection': ['No', 'No internet service', 'Yes'],\n",
    "    'TechSupport': ['No', 'No internet service', 'Yes'],\n",
    "    'StreamingTV': ['No', 'No internet service', 'Yes'],\n",
    "    'StreamingMovies': ['No', 'No internet service', 'Yes'],\n",
    "    'Contract': ['Month-to-month', 'One year', 'Two year'],\n",
    "    'PaperlessBilling': ['No', 'Yes'],\n",
    "    'PaymentMethod': ['Bank transfer (automatic)', 'Credit card (automatic)', 'Electronic check', 'Mailed check'],\n",
    "    'MonthlyCharges': ['Values'],  # Add appropriate values\n",
    "    'TotalCharges': ['Values']  # Add appropriate values\n",
    "}\n",
    "\n",
    "# Create input widgets for the original 19 features\n",
    "input_widgets = {}\n",
    "for feature in original_features:\n",
    "    if feature == 'tenure' or feature == 'MonthlyCharges' or feature == 'TotalCharges':\n",
    "        input_widgets[feature] = widgets.FloatText(description=feature)\n",
    "    else:\n",
    "        input_widgets[feature] = widgets.Dropdown(options=feature_options[feature], description=feature)\n",
    "\n",
    "# Define function to generate subfeatures\n",
    "def generate_subfeatures(original_values):\n",
    "    subfeatures = {}\n",
    "    for feature, options in feature_options.items():\n",
    "        for option in options:\n",
    "            subfeatures[f\"{feature}_{option}\"] = 1 if original_values[feature] == option else 0\n",
    "    return list(subfeatures.values())\n",
    "\n",
    "# Define function to prepare features for prediction\n",
    "def prepare_features(original_values):\n",
    "    subfeatures = generate_subfeatures(original_values)\n",
    "    if len(subfeatures) < 50:\n",
    "        subfeatures.extend([0] * (50 - len(subfeatures)))  # Pad with zeros if subfeatures are less than 50\n",
    "    return [subfeatures]\n",
    "\n",
    "# Define function to make predictions\n",
    "def predict_customer_churn(original_values):\n",
    "    features = prepare_features(original_values)\n",
    "\n",
    "    # Make prediction\n",
    "    prediction_proba = model.predict_proba(features)[0]\n",
    "    prediction = model.predict(features)[0]\n",
    "\n",
    "    # Display prediction result and confidence\n",
    "    with output:\n",
    "        output.clear_output()\n",
    "        print('Churn Prediction:', 'Churn' if prediction else 'No Churn')\n",
    "    with confidence_output:\n",
    "        confidence_output.clear_output()\n",
    "        print('Confidence (Churn): {:.2f}%'.format(prediction_proba[1] * 100))\n",
    "        print('Confidence (No Churn): {:.2f}%'.format(prediction_proba[0] * 100))\n",
    "\n",
    "# Define function to handle button click event\n",
    "def on_predict_button_clicked(b):\n",
    "    input_values = {}\n",
    "    for feature, widget in input_widgets.items():\n",
    "        if feature == 'tenure' or feature == 'MonthlyCharges' or feature == 'TotalCharges':\n",
    "            input_values[feature] = float(widget.value)  # Convert to float\n",
    "        else:\n",
    "            input_values[feature] = widget.value\n",
    "\n",
    "    predict_customer_churn(input_values)\n",
    "\n",
    "# Create a button widget for prediction\n",
    "predict_button = widgets.Button(description='Predict')\n",
    "\n",
    "# Attach on_predict_button_clicked function to button click event\n",
    "predict_button.on_click(on_predict_button_clicked)\n",
    "\n",
    "# Create output widgets for displaying prediction result and confidence\n",
    "output = widgets.Output()\n",
    "confidence_output = widgets.Output()\n",
    "\n",
    "# Display input form, prediction button, and output\n",
    "input_widgets_list = [widget for widget in input_widgets.values()]\n",
    "display(*input_widgets_list, predict_button, output, confidence_output)"
   ]
  },
  {
   "cell_type": "code",
   "execution_count": null,
   "id": "9a776b9d",
   "metadata": {},
   "outputs": [],
   "source": []
  }
 ],
 "metadata": {
  "kernelspec": {
   "display_name": "Python 3 (ipykernel)",
   "language": "python",
   "name": "python3"
  },
  "language_info": {
   "codemirror_mode": {
    "name": "ipython",
    "version": 3
   },
   "file_extension": ".py",
   "mimetype": "text/x-python",
   "name": "python",
   "nbconvert_exporter": "python",
   "pygments_lexer": "ipython3",
   "version": "3.11.5"
  }
 },
 "nbformat": 4,
 "nbformat_minor": 5
}
